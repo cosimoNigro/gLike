{
 "cells": [
  {
   "cell_type": "markdown",
   "id": "bf698a4c",
   "metadata": {},
   "source": [
    "# Tutorial DM Search\n",
    "**Problem**: estimate UL on $<\\sigma v>$ for annihilating DM using different IACT observations;\n",
    "\n",
    "**Minimise**: a joint Poisson Likelihood (a term per each dataset)."
   ]
  },
  {
   "cell_type": "code",
   "execution_count": 1,
   "id": "5874e6df",
   "metadata": {},
   "outputs": [],
   "source": [
    "#pragma cling add_library_path(\"/home/cosimo/work/gLike_build/lib\")\n",
    "#pragma cling load(\"libgLike\")\n",
    "#pragma cling add_include_path(\"/home/cosimo/work/gLike_build/include\")"
   ]
  },
  {
   "cell_type": "code",
   "execution_count": 2,
   "id": "5a71be61",
   "metadata": {},
   "outputs": [],
   "source": [
    "#include \"Iact1dUnbinnedLkl.h\"\n",
    "#include \"Iact1dBinnedLkl.h\"\n",
    "#include \"JointLkl.h\""
   ]
  },
  {
   "cell_type": "markdown",
   "id": "e5dcaad0",
   "metadata": {},
   "source": [
    "Let us consider a source with a $J$-factor: $J=10^{19}\\,{\\rm GeV}^2\\,{\\rm cm}^{-5}$ and a DM particle of mass $m_{\\rm DM} = 1\\,{\\rm TeV}$ annihilating in a $b\\bar{b}$ pair."
   ]
  },
  {
   "cell_type": "code",
   "execution_count": 3,
   "id": "31514ec0",
   "metadata": {},
   "outputs": [],
   "source": [
    "// log_10 of J-factor of the assumed DM source\n",
    "Double_t logJ = 19.; // [GeV^2 cm^-5]\n",
    "// statistical error in log_10 on the J-factor of the assumed DM source\n",
    "Double_t DlogJ = 0; // [GeV^2 cm^-5]\n",
    "// mass of the DM particle\n",
    "Double_t mass = 1000.; // [GeV]\n",
    "// dN/dE photon spectrum from gLike data\n",
    "TString dNdEFileName = Form(\"$GLIKESYS/DM/dNdE/Cirelli/dNdESignal_bb_%.1fmass.root\", mass);"
   ]
  },
  {
   "cell_type": "markdown",
   "id": "a8511077",
   "metadata": {},
   "source": [
    "Let us examine the photon spectra produced by this candidate for this annihilation"
   ]
  },
  {
   "cell_type": "code",
   "execution_count": 4,
   "id": "7b0e348a",
   "metadata": {},
   "outputs": [
    {
     "data": {
      "image/png": "[encoded data removed]",
      "text/plain": [
       "<IPython.core.display.Image object>"
      ]
     },
     "metadata": {},
     "output_type": "display_data"
    }
   ],
   "source": [
    "TFile *file = TFile::Open(dNdEFileName);\n",
    "TCanvas *c1 = new TCanvas(\"c1\", \"\", 800, 600);\n",
    "TH1F* dNdE = (TH1F*) file->Get(\"hdNdE\");\n",
    "dNdE->SetStats(0);\n",
    "dNdE->SetTitle(\"DM #rightarrow b#bar{b}, m_{DM} = 1 TeV\");\n",
    "dNdE->GetYaxis()->SetTitle(\"#frac{dN}{dE} / GeV^{-1}\");\n",
    "dNdE->GetXaxis()->SetTitle(\"log_{10}(E / GeV)\");\n",
    "dNdE->Draw();\n",
    "c1->SetLogy();\n",
    "c1->Draw();"
   ]
  },
  {
   "cell_type": "markdown",
   "id": "cfc2c28d",
   "metadata": {},
   "source": [
    "For building the likelihood we need to read the IACT data.     \n",
    "We will make a **joint likelihood with an unbinned and a binned likelihood terms and minimise them jointly**."
   ]
  },
  {
   "cell_type": "code",
   "execution_count": 5,
   "id": "4e9ee368",
   "metadata": {},
   "outputs": [],
   "source": [
    "// input file with event list and their associated IRFs\n",
    "TString inputFile1 = \"$GLIKESYS/data/root/genericIact_dataIRF_01.root\";\n",
    "// input file with event list and their associated IRFs\n",
    "TString inputFile2 = \"$GLIKESYS/data/root/genericIact_dataIRF_02.root\";"
   ]
  },
  {
   "cell_type": "code",
   "execution_count": 6,
   "id": "024dcfda",
   "metadata": {},
   "outputs": [
    {
     "name": "stdout",
     "output_type": "stream",
     "text": [
      "Iact1dUnbinnedLkl::CheckHistograms Message: will create fHdNdEpSignal from fHdNdESignal, fHAeff, fGEreso & fGEbias... Done! \n",
      "Iact1dUnbinnedLkl::CheckHistograms Message: will create fHdNdEpSignal from fHdNdESignal, fHAeff, fGEreso & fGEbias... Done! \n"
     ]
    }
   ],
   "source": [
    "// the CI will be 2 sigma (a dropt of 4 in -2 log L)\n",
    "Double_t errorDef = 4;\n",
    "\n",
    "// create and configure an unbinned likelihood term using one of the datasets\n",
    "Iact1dUnbinnedLkl *unbn = new Iact1dUnbinnedLkl(Form(\"logJ=%.2f DlogJ=0 inputfile=%s\", logJ, inputFile1.Data()));\n",
    "unbn->ReaddNdESignal(dNdEFileName);\n",
    "// set units for DM annihilation <sv>\n",
    "unbn->SetDMAnnihilationUnitsForG(mass);\n",
    "\n",
    "// create and configure a binned likelihood term using one of the datasets\n",
    "Iact1dBinnedLkl *bn = new Iact1dBinnedLkl(Form(\"logJ=%.2f DlogJ=0 inputfile=%s\", logJ, inputFile2.Data()));\n",
    "bn->ReaddNdESignal(dNdEFileName);\n",
    "// set units for DM annihilation <sv>\n",
    "bn->SetDMAnnihilationUnitsForG(mass);"
   ]
  },
  {
   "cell_type": "code",
   "execution_count": 7,
   "id": "a519d6dc",
   "metadata": {},
   "outputs": [
    {
     "data": {
      "image/png": "[encoded data removed]",
      "text/plain": [
       "<IPython.core.display.Image object>"
      ]
     },
     "metadata": {},
     "output_type": "display_data"
    }
   ],
   "source": [
    "TCanvas *c2 = new TCanvas(\"c2\", \"\", 800, 400);\n",
    "c2->Divide(2);\n",
    "TPad *p1 = (TPad*) c2->cd(1);\n",
    "p1->SetLogy();\n",
    "TH1F* hOn = bn->GetHdNdEpOn(); \n",
    "hOn->SetStats(0);\n",
    "hOn->Draw();\n",
    "TPad *p2 = (TPad*) c2->cd(2);\n",
    "p2->SetLogy();\n",
    "TH1F* aEff = bn->GetHAeff();\n",
    "aEff->Draw();\n",
    "c2->Draw();"
   ]
  },
  {
   "cell_type": "code",
   "execution_count": 8,
   "id": "fb9980de",
   "metadata": {},
   "outputs": [],
   "source": [
    "// join the two likelihood terms in a single joint likelihood\n",
    "JointLkl *jointLkl = new JointLkl(Form(\"DlogJ=%.2f\", DlogJ));\n",
    "jointLkl->SetErrorDef(errorDef);\n",
    "jointLkl->AddSample(unbn);\n",
    "jointLkl->AddSample(bn);"
   ]
  },
  {
   "cell_type": "code",
   "execution_count": 9,
   "id": "553ebd97",
   "metadata": {},
   "outputs": [
    {
     "name": "stdout",
     "output_type": "stream",
     "text": [
      " *              Object Name : JointLkl\n",
      " *             # of samples = 2\n",
      " ****************************************\n",
      "                                        *              Object Name : Iact1dUnbinnedLkl\n",
      "                                        *                E' range  = [59.2,10000] GeV\n",
      "                                        *                 Non/Noff = 11572/11337\n",
      "                                        *             Measured tau = 1.00402 +/- 0.00599\n",
      "                                        *         Observation time = 45 h\n",
      "                                        *                   log(J) = (19 +/- 0) GeV^2 cm^-5  or  GeV cm^-2\n",
      "                                        *               Aeff histo : YES\n",
      "                                        *           Off Aeff histo : NO\n",
      "                                        *       E Reso/Bias graphs : YES\n",
      "                                        *         Migration matrix : NO\n",
      "                                        *    Background rate histo : YES\n",
      "                                        *    Foreground rate histo : NO\n",
      "                                        *       Signal dN/dE histo : YES\n",
      "                                        *      Signal dN/dE' histo : YES\n",
      "                                        *  Signal dN/dE' Off histo : NO\n",
      "                                        ****************************************\n",
      "                                        *              Object Name : Iact1dBinnedLkl\n",
      "                                        *                E' range  = [59.2,10000] GeV\n",
      "                                        *                 Non/Noff = 11576/11616\n",
      "                                        *             Measured tau = 1.00402 +/- 0.00599\n",
      "                                        *         Observation time = 45 h\n",
      "                                        *                   log(J) = (19 +/- 0) GeV^2 cm^-5  or  GeV cm^-2\n",
      "                                        *               Aeff histo : YES\n",
      "                                        *           Off Aeff histo : NO\n",
      "                                        *       E Reso/Bias graphs : YES\n",
      "                                        *         Migration matrix : NO\n",
      "                                        *    Background rate histo : YES\n",
      "                                        *    Foreground rate histo : NO\n",
      "                                        *       Signal dN/dE histo : YES\n",
      "                                        *      Signal dN/dE' histo : YES\n",
      "                                        *  Signal dN/dE' Off histo : NO\n",
      "                                        *                # of bins = 10\n",
      "                                        *                Rebinned? = YES (to 1 min entries)\n",
      "                                        ****************************************\n"
     ]
    }
   ],
   "source": [
    " // print how JointLkl looks like\n",
    "jointLkl->PrintData();"
   ]
  },
  {
   "cell_type": "code",
   "execution_count": 10,
   "id": "dbf2bb79",
   "metadata": {},
   "outputs": [
    {
     "name": "stdout",
     "output_type": "stream",
     "text": [
      "Lkl::ComputeLklVsG (JointLkl) Message: Finding minimum of -2logL... \n",
      "Lkl::MinimizeLkl (JointLkl) Message: minimizing -2logL\n",
      "Lkl::CallMinimization (JointLkl) Results: Trial #1, g: 1.22e+02 +/- 1.50e+02 (8.07e-24 +/- 9.92e-24); -2logL = 278687; iflag = 0 (converged)\n",
      "JointLkl::PrepareForLklScan (JointLkl) Message: call ComputeLklVsG for 2 samples:\n",
      "Lkl::ComputeLklVsG (Iact1dUnbinnedLkl) Message: computing -2logL in 200 points between g=-90.2988(-5.96529e-24), and g=334.595(2.21039e-23), this could take a while\n",
      ".................... Completed 200 points\n",
      "Lkl::ComputeLklVsG (Iact1dBinnedLkl) Message: computing -2logL in 200 points between g=-90.2988(-5.96529e-24), and g=334.595(2.21039e-23), this could take a while\n",
      ".................... Completed 200 points\n",
      "Lkl::ComputeLklVsG (JointLkl) Message: computing -2logL in 200 points between g=-90.2988(-5.96529e-24), and g=334.595(2.21039e-23), this could take a while\n",
      ".................... Completed 200 points\n",
      "Lkl::ComputeLklVsG (JointLkl) Message: g_min = 121.081 +/- 151.362 (7.99879e-24 +/- 9.99925e-24), -2logLmin = 278687\n",
      " *  Name              = JointLkl\n",
      " *  Status            = 0 (converged)\n",
      " *  Delta(2logL)      = 4\n",
      " *  # of parameters   = 1 (1 free):\n",
      " *                  g = 121.081 +/- 151.362 (7.99879e-24 +/- 9.99925e-24)\n",
      " *  Units of G        = 6.60617e-26\n",
      " *  -2logL_min        = 278687\n",
      " *  # of samples      = 2\n",
      " ****************************************\n",
      "                                        *  Name              = Iact1dUnbinnedLkl\n",
      "                                        *  Status            = 0 (converged)\n",
      "                                        *  Delta(2logL)      = 1\n",
      "                                        *  # of parameters   = 3 (2 free):\n",
      "                                        *                  g = 121.081 (7.99879e-24) (fixed)\n",
      "                                        *                  b = 11393.4 +/- 10.6475\n",
      "                                        *                tau = 0.999969 +/- 0.000599\n",
      "                                        *  Units of G        = 6.60617e-26\n",
      "                                        *  -2logL_min        = 278567\n",
      "                                        ****************************************\n",
      "                                        *  Name              = Iact1dBinnedLkl\n",
      "                                        *  Status            = 0 (converged)\n",
      "                                        *  Delta(2logL)      = 1\n",
      "                                        *  # of parameters   = 2 (1 free):\n",
      "                                        *                  g = 121.081 (7.99879e-24) (fixed)\n",
      "                                        *                tau = 1.00573 +/- 0.00599\n",
      "                                        *  Units of G        = 6.60617e-26\n",
      "                                        *  -2logL_min        = 119.721\n",
      "                                        ****************************************\n"
     ]
    }
   ],
   "source": [
    "// call minimization and print results\n",
    "jointLkl->ComputeLklVsG();\n",
    "jointLkl->PrintOverview();"
   ]
  },
  {
   "cell_type": "code",
   "execution_count": 11,
   "id": "fba4b92c",
   "metadata": {},
   "outputs": [
    {
     "data": {
      "image/png": "[encoded data removed]",
      "text/plain": [
       "<IPython.core.display.Image object>"
      ]
     },
     "metadata": {},
     "output_type": "display_data"
    }
   ],
   "source": [
    "TCanvas *c3 = new TCanvas(\"c3\", \"\", 800, 600);\n",
    "TGraph* logLklVsG = jointLkl->GetLklVsG();\n",
    "logLklVsG->SetTitle(\"\");\n",
    "logLklVsG->GetXaxis()->SetTitle(\"<#sigma v> / (cm^{3} s^{-1})\");\n",
    "logLklVsG->GetYaxis()->SetTitle(\"-2 log L\");\n",
    "logLklVsG->SetLineWidth(2);\n",
    "logLklVsG->SetLineColor(2);\n",
    "logLklVsG->Draw();\n",
    "c3->Draw();"
   ]
  }
 ],
 "metadata": {
  "kernelspec": {
   "display_name": "ROOT C++",
   "language": "c++",
   "name": "root"
  },
  "language_info": {
   "codemirror_mode": "text/x-c++src",
   "file_extension": ".C",
   "mimetype": " text/x-c++src",
   "name": "c++"
  }
 },
 "nbformat": 4,
 "nbformat_minor": 5
}
