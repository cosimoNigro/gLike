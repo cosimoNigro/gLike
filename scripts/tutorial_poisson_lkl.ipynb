{
 "cells": [
  {
   "cell_type": "markdown",
   "id": "776cf1c7",
   "metadata": {},
   "source": [
    "# Poisson Likelihood Tutorial\n",
    "**Problem**: estimate the number of signal events $g$ in a dataset with $N_{\\rm ON}$ counts from a signal region and $N_{\\rm OFF}$ counts from a background control region.\n",
    "\n",
    "**Minimise:**\n",
    "$$L(g; b, \\tau| N_{\\rm ON}, N_{\\rm OFF}) = \\frac{(g+b)^{N_{\\rm ON}}\\exp[−(g+b)]}{N_{\\rm ON}!} \\, \\frac{(\\tau b)^{N_{\\rm OFF}}\\exp[−(\\tau b)]}{N_{\\rm OFF}!} $$\n",
    "\n",
    "where:\n",
    "\n",
    "* $b$:  estimated number of background events (nuisance parameter),\n",
    "* $\\tau$: expsoure ratio background to signal regions (fixed parameter)."
   ]
  },
  {
   "cell_type": "code",
   "execution_count": 1,
   "id": "b0c4d00b",
   "metadata": {},
   "outputs": [],
   "source": [
    "#pragma cling add_library_path(\"/home/cosimo/work/gLike_build/lib\")\n",
    "#pragma cling load(\"libgLike\")\n",
    "#pragma cling add_include_path(\"/home/cosimo/work/gLike_build/include\")"
   ]
  },
  {
   "cell_type": "code",
   "execution_count": 2,
   "id": "09a8c571",
   "metadata": {},
   "outputs": [],
   "source": [
    "#include \"PoissonLkl.h\""
   ]
  },
  {
   "cell_type": "code",
   "execution_count": 3,
   "id": "7c750202",
   "metadata": {},
   "outputs": [],
   "source": [
    "// define the number of ON and OFF counts and the Poisson Likelihood\n",
    "Int_t Non = 130;\n",
    "Int_t Noff = 90;\n",
    "Double_t tau = 1.;\n",
    "PoissonLkl *poissLkl = new PoissonLkl(Non, Noff, tau);"
   ]
  },
  {
   "cell_type": "code",
   "execution_count": 4,
   "id": "1b88e12e",
   "metadata": {},
   "outputs": [],
   "source": [
    "// configure the minimization algorithm\n",
    "Double_t errorDef = 4; // drop in -2 log L corresponding to 2 sigma CI\n",
    "poissLkl->SetErrorDef(errorDef);"
   ]
  },
  {
   "cell_type": "code",
   "execution_count": 5,
   "id": "ed2d8310",
   "metadata": {},
   "outputs": [
    {
     "name": "stdout",
     "output_type": "stream",
     "text": [
      "Lkl::ComputeLklVsG (PoissonLkl) Message: Finding minimum of -2logL... \n",
      "Lkl::MinimizeLkl (PoissonLkl) Message: minimizing -2logL\n",
      "Lkl::CallMinimization (PoissonLkl) Results: Trial #1, g: 4.00e+01 +/- 2.97e+01 (4.00e+01 +/- 2.97e+01); b: 9.00e+01 +/- 1.90e+01; tau: 1.00e+00 +/- 0.00e+00; eff: 1.00e+00 +/- 0.00e+00; -2logL = 13.0462; iflag = 0 (converged)\n",
      "Lkl::ComputeLklVsG (PoissonLkl) Message: computing -2logL in 200 points between g=-1.93973(-1.93973), and g=81.9447(81.9447), this could take a while\n",
      ".................... Completed 200 points\n",
      "Lkl::ComputeLklVsG (PoissonLkl) Message: g_min = 39.7917 +/- 30.242 (39.7917 +/- 30.242), -2logLmin = 13.0464\n"
     ]
    }
   ],
   "source": [
    "// call the minimization\n",
    "poissLkl->ComputeLklVsG();"
   ]
  },
  {
   "cell_type": "code",
   "execution_count": 6,
   "id": "217fb525",
   "metadata": {},
   "outputs": [
    {
     "name": "stdout",
     "output_type": "stream",
     "text": [
      "PrintOverview:\n",
      " *  Name              = PoissonLkl\n",
      " *  Status            = 0 (converged)\n",
      " *  Delta(2logL)      = 4\n",
      " *  # of parameters   = 4 (2 free):\n",
      " *                  g = 39.7917 +/- 30.242 (39.7917 +/- 30.242)\n",
      " *                  b = 90.0852 +/- 0.0948683\n",
      " *                tau = 1 (fixed)\n",
      " *                eff = 1 (fixed)\n",
      " *  Units of G        = 1\n",
      " *  -2logL_min        = 13.0464\n"
     ]
    }
   ],
   "source": [
    "// print the minimisation results\n",
    "printf(\"PrintOverview:\\n\");\n",
    "poissLkl->PrintOverview(); // print the details from the fit"
   ]
  },
  {
   "cell_type": "code",
   "execution_count": 7,
   "id": "c0dc59f8",
   "metadata": {},
   "outputs": [
    {
     "data": {
      "image/png": "[encoded data removed]",
      "text/plain": [
       "<IPython.core.display.Image object>"
      ]
     },
     "metadata": {},
     "output_type": "display_data"
    }
   ],
   "source": [
    "// draw the -2 log L vs g curve\n",
    "TCanvas *c1 = new TCanvas(\"c1\", \"\", 800, 600);\n",
    "TGraph* logLklVsG = poissLkl->GetLklVsG();\n",
    "logLklVsG->SetTitle(\"\");\n",
    "logLklVsG->GetXaxis()->SetTitle(\"g\");\n",
    "logLklVsG->GetYaxis()->SetTitle(\"-2 log L\");\n",
    "logLklVsG->SetLineWidth(2);\n",
    "logLklVsG->SetLineColor(2);\n",
    "logLklVsG->Draw();\n",
    "// add the legend\n",
    "TLegend *legend = new TLegend(0.1, 0.75, 0.5, 0.9);\n",
    "legend->AddEntry(logLklVsG,\"L(g, b, #tau | N_{ON}, N_{OFF})\",\"l\");\n",
    "legend->SetTextSize(0.04);\n",
    "legend->Draw(\"same\");\n",
    "c1->Draw(); // in root notebooks also the canvas has to be drawn"
   ]
  },
  {
   "cell_type": "markdown",
   "id": "a8bed683",
   "metadata": {},
   "source": [
    "## Compare gLike's results against ROOT's TRolke method\n",
    "The `TRolke` method allows estimating confidence intervals, it contains the same statistics we are studying."
   ]
  },
  {
   "cell_type": "code",
   "execution_count": 8,
   "id": "e3b3f080",
   "metadata": {},
   "outputs": [],
   "source": [
    "// fetch the gLike's results\n",
    "Double_t gmin = poissLkl->GetGLklMin();\n",
    "Double_t gerr = poissLkl->GetGLklMinErr();"
   ]
  },
  {
   "cell_type": "code",
   "execution_count": 9,
   "id": "1b54dd8f",
   "metadata": {},
   "outputs": [],
   "source": [
    "// estimate the CI using the Rolke method\n",
    "TRolke *r = new TRolke(0.9544); // 2 sigma confidence interval\n",
    "r->SetPoissonBkgKnownEff(Non, Noff, tau, 1);\n",
    "Double_t gLowRolke, gUpRolke;\n",
    "r->GetLimits(gLowRolke, gUpRolke);"
   ]
  },
  {
   "cell_type": "code",
   "execution_count": 10,
   "id": "966742a9",
   "metadata": {},
   "outputs": [
    {
     "name": "stdout",
     "output_type": "stream",
     "text": [
      "gLike minimum, g = 39.79 +\\- 30.24\n",
      "TRolke minimum, g = 40.24 +\\- 29.78\n"
     ]
    }
   ],
   "source": [
    "Double_t gRolkeMin = (gUpRolke + gLowRolke) / 2;\n",
    "Double_t gRolkeErr = (gUpRolke - gLowRolke) / 2;\n",
    "printf(\"gLike minimum, g = %.2f +\\\\- %.2f\\n\", gmin, gerr);\n",
    "printf(\"TRolke minimum, g = %.2f +\\\\- %.2f\\n\", gRolkeMin, gRolkeErr);"
   ]
  },
  {
   "cell_type": "markdown",
   "id": "3b017b50",
   "metadata": {},
   "source": [
    "## More nuisance parameters\n",
    "Let us now consider also $\\tau$ as a nuisance parameter and let us add another nuisance: a signal efficiency $\\epsilon$.     \n",
    "Let us assume both $\\epsilon$ and $\\tau$ are normally distributed with mean $0$ and std. deviation $0.1$, the Likelihood formula we aim at minimising is now: \n",
    "\n",
    "$$L(g; b, \\tau, \\epsilon| N_{\\rm ON}, N_{\\rm OFF}) = {\\rm Poiss}(N_{\\rm ON} | \\epsilon g+b) \\, {\\rm Poiss}(N_{\\rm OFF} | \\tau b) \\, N(0, \\sigma_{\\epsilon}) \\, N(0, \\sigma_{\\tau}) $$"
   ]
  },
  {
   "cell_type": "code",
   "execution_count": 11,
   "id": "6e37f351",
   "metadata": {},
   "outputs": [
    {
     "name": "stdout",
     "output_type": "stream",
     "text": [
      "Lkl::ComputeLklVsG (PoissonLkl) Message: Finding minimum of -2logL... \n",
      "Lkl::MinimizeLkl (PoissonLkl) Message: minimizing -2logL\n",
      "Lkl::CallMinimization (PoissonLkl) Results: Trial #1, g: 4.00e+01 +/- 3.56e+01 (4.00e+01 +/- 3.56e+01); b: 9.00e+01 +/- 2.61e+01; tau: 1.00e+00 +/- 2.00e-01; eff: 1.00e+00 +/- 2.00e-01; -2logL = 7.51165; iflag = 0 (converged)\n",
      "Lkl::ComputeLklVsG (PoissonLkl) Message: computing -2logL in 200 points between g=-10.3497(-10.3497), and g=90.3508(90.3508), this could take a while\n",
      ".................... Completed 200 points\n",
      "Lkl::ComputeLklVsG (PoissonLkl) Message: g_min = 39.7475 +/- 37.1452 (39.7475 +/- 37.1452), -2logLmin = 7.51185\n"
     ]
    }
   ],
   "source": [
    "Double_t Deff = 0.1;\n",
    "Double_t Dtau = 0.1;\n",
    "poissLkl->SetDEff(Deff);\n",
    "poissLkl->SetDTau(Dtau);\n",
    "poissLkl->ComputeLklVsG();"
   ]
  },
  {
   "cell_type": "code",
   "execution_count": 12,
   "id": "3082818c",
   "metadata": {},
   "outputs": [
    {
     "name": "stdout",
     "output_type": "stream",
     "text": [
      "PrintOverview:\n",
      " *  Name              = PoissonLkl\n",
      " *  Status            = 0 (converged)\n",
      " *  Delta(2logL)      = 4\n",
      " *  # of parameters   = 4 (4 free):\n",
      " *                  g = 39.7475 +/- 37.1452 (39.7475 +/- 37.1452)\n",
      " *                  b = 90.1232 +/- 0.0948683\n",
      " *                tau = 0.999306 +/- 0.01\n",
      " *                eff = 1.00056 +/- 0.01\n",
      " *  Units of G        = 1\n",
      " *  -2logL_min        = 7.51185\n"
     ]
    }
   ],
   "source": [
    "printf(\"PrintOverview:\\n\");\n",
    "poissLkl->PrintOverview();"
   ]
  },
  {
   "cell_type": "code",
   "execution_count": 13,
   "id": "ef84267f",
   "metadata": {},
   "outputs": [
    {
     "data": {
      "image/png": "[encoded data removed]",
      "text/plain": [
       "<IPython.core.display.Image object>"
      ]
     },
     "metadata": {},
     "output_type": "display_data"
    }
   ],
   "source": [
    "TGraph* logLklVsG2 = poissLkl->GetLklVsG();\n",
    "logLklVsG2->SetLineWidth(2);\n",
    "logLklVsG2->Draw(\"same\"); // plot the -2logL vs g curve\n",
    "legend->AddEntry(logLklVsG2,\"L(g; b, #tau, #epsilon | N_{ON}, N_{OFF})\",\"l\");\n",
    "legend->Draw();\n",
    "c1->Draw();"
   ]
  }
 ],
 "metadata": {
  "kernelspec": {
   "display_name": "ROOT C++",
   "language": "c++",
   "name": "root"
  },
  "language_info": {
   "codemirror_mode": "text/x-c++src",
   "file_extension": ".C",
   "mimetype": " text/x-c++src",
   "name": "c++"
  }
 },
 "nbformat": 4,
 "nbformat_minor": 5
}
